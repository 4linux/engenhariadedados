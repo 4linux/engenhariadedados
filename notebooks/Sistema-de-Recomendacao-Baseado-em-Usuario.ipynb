{
 "cells": [
  {
   "cell_type": "code",
   "execution_count": null,
   "metadata": {},
   "outputs": [],
   "source": [
    "import pandas as pd\n",
    "import numpy as np\n",
    "import matplotlib.pyplot as plt\n",
    "import math"
   ]
  },
  {
   "cell_type": "code",
   "execution_count": null,
   "metadata": {},
   "outputs": [],
   "source": [
    "data_cols = ['user id','movie id','rating','timestamp']\n",
    "item_cols = ['movie id','movie title','release date','video release date','IMDb URL','unknown','Action','Adventure','Animation','Childrens','Comedy','Crime','Documentary','Drama','Fantasy','Film-Noir','Horror','Musical','Mystery','Romance ','Sci-Fi','Thriller','War' ,'Western']\n",
    "user_cols = ['user id','age','gender','occupation','zip code']"
   ]
  },
  {
   "cell_type": "code",
   "execution_count": null,
   "metadata": {},
   "outputs": [],
   "source": [
    "users = pd.read_csv('/home/leo/ml-100k/u.user', sep='|', names=user_cols, encoding='latin-1')\n",
    "item = pd.read_csv('/home/leo/ml-100k/u.item', sep='|', names=item_cols, encoding='latin-1')\n",
    "data = pd.read_csv('/home/leo/ml-100k/u.data', sep='\\t', names=data_cols, encoding='latin-1')"
   ]
  },
  {
   "cell_type": "markdown",
   "metadata": {},
   "source": [
    "# Usaremos o arquivo u.data primeiro, pois ele contém ID do usuário, IDs do filme e classificações. Esses três elementos são tudo o que precisamos para determinar a similaridade dos usuários com base em suas classificações para um filme específico. \n",
    "\n",
    "# Primeiro, vamos classificar o DataFrame pela ID do usuário e, em seguida, dividiremos o conjunto de dados em um conjunto de treinamento e um conjunto de testes (só precisamos de um usuário para o treinamento)."
   ]
  },
  {
   "cell_type": "code",
   "execution_count": null,
   "metadata": {},
   "outputs": [],
   "source": [
    "utrain = (data.sort_values('user id'))[:99832]\n",
    "print(utrain.tail())"
   ]
  },
  {
   "cell_type": "code",
   "execution_count": null,
   "metadata": {},
   "outputs": [],
   "source": [
    "utest = (data.sort_values('user id'))[99833:]\n",
    "print(utest.head())"
   ]
  },
  {
   "cell_type": "markdown",
   "metadata": {},
   "source": [
    "# Vamos converter para um NumPy Array para facilitar a iteração."
   ]
  },
  {
   "cell_type": "code",
   "execution_count": null,
   "metadata": {},
   "outputs": [],
   "source": [
    "utrain = utrain.as_matrix(columns = ['user id', 'movie id', 'rating'])\n",
    "print(utrain)"
   ]
  },
  {
   "cell_type": "code",
   "execution_count": null,
   "metadata": {},
   "outputs": [],
   "source": [
    "utest = utest.as_matrix(columns = ['user id', 'movie id', 'rating'])\n",
    "print(utest)"
   ]
  },
  {
   "cell_type": "markdown",
   "metadata": {},
   "source": [
    "# Crie um users_list, que é uma lista de usuários que contém uma lista de filmes classificados por ele."
   ]
  },
  {
   "cell_type": "code",
   "execution_count": null,
   "metadata": {},
   "outputs": [],
   "source": [
    "users_list = []\n",
    "for i in range(1,943):\n",
    "    list = []\n",
    "    for j in range(0,len(utrain)):\n",
    "        if utrain[j][0] == i:\n",
    "            list.append(utrain[j])    \n",
    "        else:\n",
    "            break\n",
    "    utrain = utrain[j:]\n",
    "    users_list.append(list) \n",
    "    \n",
    "print(len(users_list))"
   ]
  },
  {
   "cell_type": "markdown",
   "metadata": {},
   "source": [
    "# Defina uma função chamada EucledianScore. O objetivo do EucledianScore é medir a similaridade entre dois usuários com base em suas avaliações dadas aos filmes que eles têm em comum. Mas e se os usuários tiverem apenas um filme em comum? Ter mais filmes em comum é um grande sinal de semelhança. Portanto, se os usuários tiverem menos de quatro filmes em comum, atribuiremos a eles um EucledianScore alto."
   ]
  },
  {
   "cell_type": "code",
   "execution_count": null,
   "metadata": {},
   "outputs": [],
   "source": [
    "def EucledianScore(train_user, test_user):\n",
    "    sum = 0\n",
    "    count = 0\n",
    "    for i in test_user:\n",
    "        score = 0\n",
    "        for j in train_user:\n",
    "            if(int(i[1]) == int(j[1])):\n",
    "                score= ((float(i[2])-float(j[2]))*(float(i[2])-float(j[2])))\n",
    "                count= count + 1        \n",
    "            sum = sum + score\n",
    "    if(count<4):\n",
    "        sum = 1000000           \n",
    "    return(math.sqrt(sum))"
   ]
  },
  {
   "cell_type": "markdown",
   "metadata": {},
   "source": [
    "# Agora vamos iterar sobre users_list e encontrar a similaridade dos usuários com o test_user por meio dessa função e anexar o EucledianScore juntamente com o User ID em uma lista separada score_list. \n",
    "# Em seguida, vamos converter a lista em DataFrame, e assim classificá-lo pelo EucledianScore e, finalmente, convertê-lo em um score_matrix NumPy Array para facilitar a iteração."
   ]
  },
  {
   "cell_type": "code",
   "execution_count": null,
   "metadata": {},
   "outputs": [],
   "source": [
    "score_list = []               \n",
    "for i in range(0,942):\n",
    "    score_list.append([i+1,EucledianScore(users_list[i], utest)])\n",
    "score = pd.DataFrame(score_list, columns = ['user id','Eucledian Score'])\n",
    "score = score.sort_values(by = 'Eucledian Score')\n",
    "print(score)\n",
    "score_matrix = score.as_matrix()"
   ]
  },
  {
   "cell_type": "markdown",
   "metadata": {},
   "source": [
    "# Agora vemos que o usuário com ID 310 tem a menor pontuação de distância euclidiana e, portanto, a maior similaridade. \n",
    "\n",
    "# Então, agora precisamos obter a lista de filmes que não são comuns entre os dois usuários. Faça duas listas. Veja a lista completa dos filmes que estão lá em USER_ID 310. E então a lista de filmes comuns. Converta essas listas em conjuntos e obtenha a lista de filmes a serem recomendados."
   ]
  },
  {
   "cell_type": "code",
   "execution_count": null,
   "metadata": {},
   "outputs": [],
   "source": [
    "user= int(score_matrix[0][0])\n",
    "common_list = []\n",
    "full_list = []\n",
    "for i in utest:\n",
    "    for j in users_list[user-1]:\n",
    "        if(int(i[1])== int(j[1])):\n",
    "            common_list.append(int(j[1]))\n",
    "        full_list.append(j[1])\n",
    "\n",
    "common_list = set(common_list)  \n",
    "full_list = set(full_list)\n",
    "recommendation = full_list.difference(common_list)"
   ]
  },
  {
   "cell_type": "markdown",
   "metadata": {},
   "source": [
    "# Agora precisamos criar uma lista compilada dos filmes junto com suas classificações médias. Mesclar os arquivos \"item\" e \"dados\". Em seguida, agrupe pelos títulos de filmes, selecione as colunas que você precisa e, em seguida, encontre as avaliações médias de cada filme. Em seguida, expresse o Dataframe como um Array NumPy."
   ]
  },
  {
   "cell_type": "code",
   "execution_count": null,
   "metadata": {},
   "outputs": [],
   "source": [
    "item_list = (((pd.merge(item,data).sort_values(by = 'movie id')).groupby('movie title')))['movie id', 'movie title', 'rating']\n",
    "item_list = item_list.mean()\n",
    "item_list['movie title'] = item_list.index\n",
    "item_list = item_list.as_matrix()"
   ]
  },
  {
   "cell_type": "markdown",
   "metadata": {},
   "source": [
    "# Agora encontramos os filmes em item_list por IDs da recomendação. Em seguida, anexe-os a uma lista separada.\n",
    "# Imprima-os e suas recomendações estão prontas!"
   ]
  },
  {
   "cell_type": "code",
   "execution_count": null,
   "metadata": {},
   "outputs": [],
   "source": [
    "recommendation_list = []\n",
    "for i in recommendation:\n",
    "    recommendation_list.append(item_list[i-1])\n",
    "    \n",
    "recommendation = (pd.DataFrame(recommendation_list,columns = ['movie id','mean rating' ,'movie title'])).sort_values(by = 'mean rating', ascending = False)\n",
    "print(recommendation[['mean rating','movie title']])"
   ]
  },
  {
   "cell_type": "code",
   "execution_count": null,
   "metadata": {},
   "outputs": [],
   "source": []
  }
 ],
 "metadata": {
  "kernelspec": {
   "display_name": "Python 3",
   "language": "python",
   "name": "python3"
  },
  "language_info": {
   "codemirror_mode": {
    "name": "ipython",
    "version": 3
   },
   "file_extension": ".py",
   "mimetype": "text/x-python",
   "name": "python",
   "nbconvert_exporter": "python",
   "pygments_lexer": "ipython3",
   "version": "3.6.5"
  }
 },
 "nbformat": 4,
 "nbformat_minor": 2
}
