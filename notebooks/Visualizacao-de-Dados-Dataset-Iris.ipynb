{
 "cells": [
  {
   "cell_type": "code",
   "execution_count": null,
   "metadata": {},
   "outputs": [],
   "source": [
    "# Importando biblioteca de Algebra Linear"
   ]
  },
  {
   "cell_type": "code",
   "execution_count": null,
   "metadata": {},
   "outputs": [],
   "source": [
    "import numpy as np "
   ]
  },
  {
   "cell_type": "code",
   "execution_count": null,
   "metadata": {},
   "outputs": [],
   "source": [
    "# Importando biblioteca para processamento de dados e gerenciamento de arquivos CSV"
   ]
  },
  {
   "cell_type": "code",
   "execution_count": null,
   "metadata": {},
   "outputs": [],
   "source": [
    "import pandas as pd"
   ]
  },
  {
   "cell_type": "code",
   "execution_count": null,
   "metadata": {},
   "outputs": [],
   "source": [
    "# Ocultando avisos (\"warnings\")"
   ]
  },
  {
   "cell_type": "code",
   "execution_count": null,
   "metadata": {},
   "outputs": [],
   "source": [
    "import warnings"
   ]
  },
  {
   "cell_type": "code",
   "execution_count": null,
   "metadata": {},
   "outputs": [],
   "source": [
    "warnings.filterwarnings('ignore')"
   ]
  },
  {
   "cell_type": "code",
   "execution_count": null,
   "metadata": {},
   "outputs": [],
   "source": [
    "# Carregando o dataset IRIS.csv para o objeto Iris"
   ]
  },
  {
   "cell_type": "code",
   "execution_count": null,
   "metadata": {},
   "outputs": [],
   "source": [
    "iris=pd.read_csv('~/bases/IRIS.csv')"
   ]
  },
  {
   "cell_type": "code",
   "execution_count": null,
   "metadata": {},
   "outputs": [],
   "source": [
    "# Visualizando o cabeçalho do dataset Iris"
   ]
  },
  {
   "cell_type": "code",
   "execution_count": null,
   "metadata": {},
   "outputs": [],
   "source": [
    "iris.head()"
   ]
  },
  {
   "cell_type": "code",
   "execution_count": null,
   "metadata": {},
   "outputs": [],
   "source": [
    "# Contando quantos elementos existem em cada variedades ou espécies do dataset Iris"
   ]
  },
  {
   "cell_type": "code",
   "execution_count": null,
   "metadata": {},
   "outputs": [],
   "source": [
    "iris['variety'].value_counts()"
   ]
  },
  {
   "cell_type": "code",
   "execution_count": null,
   "metadata": {},
   "outputs": [],
   "source": [
    "# Importando a biblioteca matplotlib para visualização de dados"
   ]
  },
  {
   "cell_type": "code",
   "execution_count": null,
   "metadata": {},
   "outputs": [],
   "source": [
    "import matplotlib.pyplot as plt"
   ]
  },
  {
   "cell_type": "code",
   "execution_count": null,
   "metadata": {},
   "outputs": [],
   "source": [
    "# Gerando gráfico onde o eixo y é representado pela feature \"sepal.widh\"\n",
    "# E o eixo x é representado pela feature \"sepal.length\"\n",
    "# Este gráfico ajuda a visualizar como as espécies estão distribuídas no espaço 2D\n",
    "# A espécie Setosa é mostrada em vermelho\n",
    "# A espécie Versicolor é mostrada em azul\n",
    "# A espécie Virginica é mostrada em verde"
   ]
  },
  {
   "cell_type": "code",
   "execution_count": null,
   "metadata": {},
   "outputs": [],
   "source": [
    "for n in range(0,150):\n",
    "     if iris['variety'][n] == 'Setosa':\n",
    "                plt.scatter(iris['sepal.length'][n],iris['sepal.width'][n],color='red')\n",
    "                plt.xlabel('sepal.length')\n",
    "                plt.ylabel('sepal.width')\n",
    "     elif iris['variety'][n] == 'Versicolor':\n",
    "            plt.scatter(iris['sepal.length'][n],iris['sepal.width'][n],color='blue')\n",
    "     else:\n",
    "            plt.scatter(iris['sepal.length'][n],iris['sepal.width'][n],color='green')"
   ]
  },
  {
   "cell_type": "code",
   "execution_count": null,
   "metadata": {},
   "outputs": [],
   "source": [
    "# Importando a biblioteca seaborn para plotar gráficos com Regressão Linear"
   ]
  },
  {
   "cell_type": "code",
   "execution_count": null,
   "metadata": {},
   "outputs": [],
   "source": [
    "import seaborn as sns"
   ]
  },
  {
   "cell_type": "code",
   "execution_count": null,
   "metadata": {},
   "outputs": [],
   "source": [
    "# Levando em consideração as features sepal.width e sepal.length\n",
    "# Obserse que gráficos adicionais são acrescentados no topo e no lado esquerdo\n",
    "# Isto ajuda a verificar melhor as maiores concentrações de elementos"
   ]
  },
  {
   "cell_type": "code",
   "execution_count": null,
   "metadata": {},
   "outputs": [],
   "source": [
    "sns.jointplot(x=\"sepal.length\", y=\"sepal.width\", data=iris)"
   ]
  },
  {
   "cell_type": "code",
   "execution_count": null,
   "metadata": {},
   "outputs": [],
   "source": [
    "# Como vimos no gráfico acima, as espécies não são diferenciadas\n",
    "# Vamos usar o facegrid para podermos diferenciá-las\n",
    "# A coluna que será usada é a \"variety\" que indica o tipo da espécie\n",
    "# O tamanho 5 foi escolhido para manter a saída padrão do gráfico anterior\n",
    "# Observe que o eixo sepa.width do gráfico anterior está fatiado em 5 partes"
   ]
  },
  {
   "cell_type": "code",
   "execution_count": null,
   "metadata": {},
   "outputs": [],
   "source": [
    "i=sns.FacetGrid(iris, hue=\"variety\", size=5)\n",
    "i=(i.map(plt.scatter,'sepal.length','sepal.width').add_legend())"
   ]
  },
  {
   "cell_type": "code",
   "execution_count": null,
   "metadata": {},
   "outputs": [],
   "source": [
    "# Aqui podemos plotar os dados com a linha de regressão / linha de limite\n",
    "# E as espécies são diferenciadas usando matiz"
   ]
  },
  {
   "cell_type": "code",
   "execution_count": null,
   "metadata": {},
   "outputs": [],
   "source": [
    "sns.lmplot(x='sepal.length',y='sepal.width',data=iris)\n",
    "sns.lmplot(x='sepal.length',y='sepal.width',data=iris,hue='variety')\n",
    "sns.residplot(x='sepal.length',y='sepal.width',data=iris)"
   ]
  },
  {
   "cell_type": "code",
   "execution_count": null,
   "metadata": {},
   "outputs": [],
   "source": [
    "# O exemplo abaixo tem o mesmo objetivo que o de acima\n",
    "# mas as três espécies são plotadas separadamente "
   ]
  },
  {
   "cell_type": "code",
   "execution_count": null,
   "metadata": {
    "scrolled": true
   },
   "outputs": [],
   "source": [
    "sns.lmplot(x='sepal.length',y='sepal.width',data=iris,hue='variety',col='variety')"
   ]
  },
  {
   "cell_type": "code",
   "execution_count": null,
   "metadata": {},
   "outputs": [],
   "source": [
    "# Plotagem de dados em faixa"
   ]
  },
  {
   "cell_type": "code",
   "execution_count": null,
   "metadata": {},
   "outputs": [],
   "source": [
    "plt.subplot(2,2,1)\n",
    "sns.stripplot(x=\"variety\", y=\"sepal.length\", data=iris, jitter=True)\n",
    "plt.subplot(2,2,2)\n",
    "sns.stripplot(x=\"variety\", y=\"sepal.width\", data=iris, jitter=True)\n",
    "plt.subplot(2,2,3)\n",
    "sns.stripplot(x=\"variety\", y=\"petal.length\", data=iris, jitter=True)\n",
    "plt.subplot(2,2,4)\n",
    "sns.stripplot(x=\"variety\", y=\"petal.width\", data=iris, jitter=True)\n"
   ]
  },
  {
   "cell_type": "code",
   "execution_count": null,
   "metadata": {},
   "outputs": [],
   "source": [
    "# Plotagem de dados em caixa"
   ]
  },
  {
   "cell_type": "code",
   "execution_count": null,
   "metadata": {},
   "outputs": [],
   "source": [
    "plt.style.use('ggplot')\n",
    "plt.subplot(2,2,1)\n",
    "sns.boxplot(x=\"variety\", y=\"sepal.length\", data=iris)\n",
    "plt.subplot(2,2,2)\n",
    "sns.boxplot(x=\"variety\", y=\"sepal.width\", data=iris)\n",
    "plt.subplot(2,2,3)\n",
    "sns.boxplot(x=\"variety\", y=\"petal.length\", data=iris)\n",
    "plt.subplot(2,2,4)\n",
    "sns.boxplot(x=\"variety\", y=\"petal.width\", data=iris)"
   ]
  },
  {
   "cell_type": "code",
   "execution_count": null,
   "metadata": {},
   "outputs": [],
   "source": [
    "# Plotagem de dados no formato violino"
   ]
  },
  {
   "cell_type": "code",
   "execution_count": null,
   "metadata": {},
   "outputs": [],
   "source": [
    "plt.style.use('ggplot')\n",
    "plt.subplot(2,2,1)\n",
    "sns.violinplot(x=\"variety\", y=\"sepal.length\", data=iris)\n",
    "plt.subplot(2,2,2)\n",
    "sns.violinplot(x=\"variety\", y=\"sepal.width\", data=iris)\n",
    "plt.subplot(2,2,3)\n",
    "sns.violinplot(x=\"variety\", y=\"petal.length\", data=iris)\n",
    "plt.subplot(2,2,4)\n",
    "sns.violinplot(x=\"variety\", y=\"petal.width\", data=iris)"
   ]
  },
  {
   "cell_type": "code",
   "execution_count": null,
   "metadata": {},
   "outputs": [],
   "source": [
    "# Com o pairplot, podemos relacionar cada par de recursos com os outros "
   ]
  },
  {
   "cell_type": "code",
   "execution_count": null,
   "metadata": {},
   "outputs": [],
   "source": [
    "sns.pairplot(iris,hue=\"variety\")"
   ]
  },
  {
   "cell_type": "code",
   "execution_count": null,
   "metadata": {},
   "outputs": [],
   "source": []
  }
 ],
 "metadata": {
  "kernelspec": {
   "display_name": "Python 3",
   "language": "python",
   "name": "python3"
  },
  "language_info": {
   "codemirror_mode": {
    "name": "ipython",
    "version": 3
   },
   "file_extension": ".py",
   "mimetype": "text/x-python",
   "name": "python",
   "nbconvert_exporter": "python",
   "pygments_lexer": "ipython3",
   "version": "3.6.5"
  }
 },
 "nbformat": 4,
 "nbformat_minor": 2
}
